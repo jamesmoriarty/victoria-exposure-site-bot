{
 "cells": [
  {
   "cell_type": "code",
   "execution_count": null,
   "id": "15b47d08-21f9-42ec-b1da-385827387d36",
   "metadata": {},
   "outputs": [],
   "source": [
    "# Resource: https://discover.data.vic.gov.au/dataset/all-victorian-sars-cov-2-covid-19-current-exposure-sites\n",
    "#\n",
    "# curl -L  https://docs.google.com/spreadsheets/d/e/2PACX-1vSNouXrJ8UQ-tn6bAxzrOdLINuoOtn01fSjooql0O3XQlj4_ldFiglzOmDm--t2jy1k-ABK6LMzPScs/pub\\?gid\\=1075463302\\&single\\=true\\&output\\=csv > data/sites.csv\n",
    "import requests\n",
    "\n",
    "url = 'https://docs.google.com/spreadsheets/d/e/2PACX-1vSNouXrJ8UQ-tn6bAxzrOdLINuoOtn01fSjooql0O3XQlj4_ldFiglzOmDm--t2jy1k-ABK6LMzPScs/pub?gid=1075463302&single=true&output=csv'\n",
    "res = requests.get(url, allow_redirects=True)\n",
    "open('data/exposure_sites.csv', 'wb').write(res.content)\n",
    "\n",
    "import great_expectations as ge\n",
    "\n",
    "df = ge.read_csv(\"data/exposure_sites.csv\", header=0)\n",
    "\n",
    "# Expectations\n",
    "\n",
    "df.expect_table_columns_to_match_ordered_list([\n",
    "    \"Suburb\",\n",
    "    \"Site_title\",\n",
    "    \"Site_streetaddress\",\n",
    "    \"Site_state\",\n",
    "    \"Site_postcode\",\n",
    "    \"Exposure_date_dtm\",\n",
    "    \"Exposure_date\",\n",
    "    \"Exposure_time\",\n",
    "    \"Notes\",\n",
    "    \"Added_date_dtm\",\n",
    "    \"Added_date\",\n",
    "    \"Added_time\",\n",
    "    \"Advice_title\",\n",
    "    \"Advice_instruction\",\n",
    "    \"Exposure_time_start_24\",\n",
    "    \"Exposure_time_end_24\"\n",
    "])\n",
    "\n",
    "df.expect_column_values_to_be_between(\n",
    "    column=\"Site_postcode\",\n",
    "    min_value=0,\n",
    "    max_value=10000,\n",
    ")\n",
    "\n",
    "# Save\n",
    "\n",
    "suite = df.get_expectation_suite()\n",
    "\n",
    "suite.save_expectation_suite_name(\"exposure_sites\")\n",
    "\n",
    "df.save_expectation_suite(\"great_expectations/expectations/exposure_sites.json\", discard_failed_expectations=False)\n"
   ]
  },
  {
   "cell_type": "code",
   "execution_count": 12,
   "id": "033abcfa-354e-436b-a085-f53eff4d54dc",
   "metadata": {},
   "outputs": [
    {
     "data": {
      "text/plain": [
       "Public Transport    43\n",
       "Richmond            28\n",
       "Cowes               26\n",
       "Docklands           20\n",
       "Melbourne           19\n",
       "                    ..\n",
       "Wycheproof           1\n",
       "Pakenham             1\n",
       "Oakleigh South       1\n",
       "Ringwood             1\n",
       "Craigieburn          1\n",
       "Name: Suburb, Length: 103, dtype: int64"
      ]
     },
     "execution_count": 12,
     "metadata": {},
     "output_type": "execute_result"
    }
   ],
   "source": [
    "# Example data insights\n",
    "    \n",
    "import pandas as pd\n",
    "\n",
    "df = pd.read_csv(\"data/exposure_sites.csv\", header=0)\n",
    "df.Suburb.value_counts()"
   ]
  },
  {
   "cell_type": "code",
   "execution_count": 13,
   "id": "9148e197-d4f5-43b0-a30b-c7b3fb8d335a",
   "metadata": {},
   "outputs": [
    {
     "data": {
      "text/plain": [
       "0.11083743842364532"
      ]
     },
     "execution_count": 13,
     "metadata": {},
     "output_type": "execute_result"
    }
   ],
   "source": [
    "# Example data insights\n",
    "    \n",
    "import pandas as pd\n",
    "\n",
    "df = pd.read_csv(\"data/exposure_sites.csv\", header=0)\n",
    "df_cleaned['Site_postcode'].isnull().sum() / len(df)"
   ]
  },
  {
   "cell_type": "code",
   "execution_count": null,
   "id": "0ab454fc-326f-4705-a3db-61a7c37a307b",
   "metadata": {},
   "outputs": [],
   "source": [
    "# Example data visualizations\n",
    "\n",
    "import pandas as pd\n",
    "import matplotlib.pyplot as plt\n",
    "\n",
    "df = pd.read_csv(\"data/exposure_sites.csv\", header=0)\n",
    "\n",
    "plt.figure();\n",
    "\n",
    "df = df.Suburb.value_counts()\n",
    "\n",
    "df.plot().hist(x=\"Suburb\", height=\"0\");\n"
   ]
  },
  {
   "cell_type": "code",
   "execution_count": null,
   "id": "219209f4-0c3f-43b2-924a-f58eda5bfc87",
   "metadata": {},
   "outputs": [],
   "source": []
  },
  {
   "cell_type": "code",
   "execution_count": null,
   "id": "d89678b2-03a5-4526-b649-30be914dadde",
   "metadata": {},
   "outputs": [],
   "source": []
  },
  {
   "cell_type": "code",
   "execution_count": null,
   "id": "a520a4bd-6982-4530-9c06-a41d89938f2e",
   "metadata": {},
   "outputs": [],
   "source": []
  },
  {
   "cell_type": "code",
   "execution_count": null,
   "id": "49d5d6dc-81fa-4407-b057-26a407feef44",
   "metadata": {},
   "outputs": [],
   "source": []
  }
 ],
 "metadata": {
  "kernelspec": {
   "display_name": "Python 3 (ipykernel)",
   "language": "python",
   "name": "python3"
  },
  "language_info": {
   "codemirror_mode": {
    "name": "ipython",
    "version": 3
   },
   "file_extension": ".py",
   "mimetype": "text/x-python",
   "name": "python",
   "nbconvert_exporter": "python",
   "pygments_lexer": "ipython3",
   "version": "3.9.6"
  }
 },
 "nbformat": 4,
 "nbformat_minor": 5
}
